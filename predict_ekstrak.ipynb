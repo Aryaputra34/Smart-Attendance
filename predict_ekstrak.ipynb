{
 "cells": [
  {
   "cell_type": "code",
   "execution_count": 11,
   "metadata": {},
   "outputs": [],
   "source": [
    "import torch"
   ]
  },
  {
   "cell_type": "code",
   "execution_count": 12,
   "metadata": {},
   "outputs": [],
   "source": [
    "import pathlib\n",
    "temp = pathlib.PosixPath\n",
    "pathlib.PosixPath = pathlib.WindowsPath\n",
    "# pathlib.PosixPath = temp"
   ]
  },
  {
   "cell_type": "code",
   "execution_count": 13,
   "metadata": {},
   "outputs": [
    {
     "name": "stderr",
     "output_type": "stream",
     "text": [
      "YOLOv5  v7.0-331-gab364c98 Python-3.12.4 torch-2.3.1 CUDA:0 (NVIDIA GeForce RTX 3050 Laptop GPU, 4096MiB)\n",
      "\n",
      "Fusing layers... \n",
      "Model summary: 267 layers, 46129818 parameters, 0 gradients, 107.7 GFLOPs\n",
      "Adding AutoShape... \n"
     ]
    }
   ],
   "source": [
    "model = torch.hub.load('yolov5', 'custom', 'yolov5/runs/train/yolov5l_tf_results/weights/best.pt', source='local')"
   ]
  },
  {
   "cell_type": "code",
   "execution_count": 21,
   "metadata": {},
   "outputs": [
    {
     "name": "stdout",
     "output_type": "stream",
     "text": [
      "0.64\n",
      "Confidence: 0.8874115943908691\n"
     ]
    }
   ],
   "source": [
    "model.conf = 0.64\n",
    "results = model('wili-kacamata.jpeg', size=640, augment=True)\n",
    "\n",
    "print(model.conf)\n",
    "for *xyxy, conf, cls in results.xyxy[0]:\n",
    "    # print(f'Coordinates: {xyxy} | Confidence: {conf} | Class: {cls}')\n",
    "    print(f'Confidence: {conf}')"
   ]
  },
  {
   "cell_type": "code",
   "execution_count": 22,
   "metadata": {},
   "outputs": [
    {
     "name": "stdout",
     "output_type": "stream",
     "text": [
      "image 1/1: 1600x1200 1 2107421008_William Nison Manurung\n",
      "Speed: 50.7ms pre-process, 272.6ms inference, 2.0ms NMS per image at shape (1, 3, 640, 480)\n",
      "==========================================================================================\n",
      "image 1/1: 1600x1200 1 2107421008_William Nison Manurung\n",
      "==========================================================================================\n",
      "['image 1/1: 1600x1200 1 2107421008', 'William Nison Manurung']\n",
      "==========================================================================================\n",
      "['2107421008', 'William Nison Manurung']\n",
      "2107421008_William Nison Manurung\n"
     ]
    }
   ],
   "source": [
    "# results = model('30138.jpg', size=640,)\n",
    "# results.show()\n",
    "results = str(results)\n",
    "print(results)\n",
    "print(\"==========================================================================================\")\n",
    "results = results.splitlines(False)[0]\n",
    "print(results)\n",
    "print(\"==========================================================================================\")\n",
    "results = results.split(\"_\")\n",
    "print(results)\n",
    "print(\"==========================================================================================\")\n",
    "results[0] = results[0].split(\" \")[4]\n",
    "print(results) #output nya array\n",
    "if len(results) > 2:\n",
    "    print(\"salah\")\n",
    "results = '_'.join(results)\n",
    "print(results) #output nya string"
   ]
  },
  {
   "cell_type": "code",
   "execution_count": null,
   "metadata": {},
   "outputs": [],
   "source": [
    "# usage: detect.py [-h] [--weights WEIGHTS [WEIGHTS ...]] [--source SOURCE]\n",
    "#                  [--data DATA] [--imgsz IMGSZ [IMGSZ ...]]\n",
    "#                  [--conf-thres CONF_THRES] [--iou-thres IOU_THRES]\n",
    "#                  [--max-det MAX_DET] [--device DEVICE] [--view-img]\n",
    "#                  [--save-txt] [--save-csv] [--save-conf] [--save-crop]\n",
    "#                  [--nosave] [--classes CLASSES [CLASSES ...]] [--agnostic-nms]\n",
    "#                  [--augment] [--visualize] [--update] [--project PROJECT]\n",
    "#                  [--name NAME] [--exist-ok] [--line-thickness LINE_THICKNESS]\n",
    "#                  [--hide-labels] [--hide-conf] [--half] [--dnn]\n",
    "#                  [--vid-stride VID_STRIDE]\n",
    "\n",
    "# options:\n",
    "#   -h, --help            show this help message and exit\n",
    "#   --weights WEIGHTS [WEIGHTS ...]\n",
    "#                         model path or triton URL\n",
    "#   --source SOURCE       file/dir/URL/glob/screen/0(webcam)\n",
    "#   --data DATA           (optional) dataset.yaml path\n",
    "#   --imgsz IMGSZ [IMGSZ ...], --img IMGSZ [IMGSZ ...], --img-size IMGSZ [IMGSZ ...]\n",
    "#                         inference size h,w\n",
    "#   --conf-thres CONF_THRES\n",
    "#                         confidence threshold\n",
    "#   --iou-thres IOU_THRES\n",
    "#                         NMS IoU threshold\n",
    "#   --max-det MAX_DET     maximum detections per image\n",
    "#   --device DEVICE       cuda device, i.e. 0 or 0,1,2,3 or cpu\n",
    "#   --view-img            show results\n",
    "#   --save-txt            save results to *.txt\n",
    "#   --save-csv            save results in CSV format\n",
    "#   --save-conf           save confidences in --save-txt labels\n",
    "#   --save-crop           save cropped prediction boxes\n",
    "#   --nosave              do not save images/videos\n",
    "#   --classes CLASSES [CLASSES ...]\n",
    "#                         filter by class: --classes 0, or --classes 0 2 3\n",
    "#   --agnostic-nms        class-agnostic NMS\n",
    "#   --augment             augmented inference\n",
    "#   --visualize           visualize features\n",
    "#   --update              update all models\n",
    "#   --project PROJECT     save results to project/name\n",
    "#   --name NAME           save results to project/name\n",
    "#   --exist-ok            existing project/name ok, do not increment\n",
    "#   --line-thickness LINE_THICKNESS\n",
    "#                         bounding box thickness (pixels)\n",
    "#   --hide-labels         hide labels\n",
    "#   --hide-conf           hide confidences\n",
    "#   --half                use FP16 half-precision inference\n",
    "#   --dnn                 use OpenCV DNN for ONNX inference\n",
    "#   --vid-stride VID_STRIDE\n",
    "#                         video frame-rate stride"
   ]
  }
 ],
 "metadata": {
  "kernelspec": {
   "display_name": "Python 3",
   "language": "python",
   "name": "python3"
  },
  "language_info": {
   "codemirror_mode": {
    "name": "ipython",
    "version": 3
   },
   "file_extension": ".py",
   "mimetype": "text/x-python",
   "name": "python",
   "nbconvert_exporter": "python",
   "pygments_lexer": "ipython3",
   "version": "3.12.4"
  }
 },
 "nbformat": 4,
 "nbformat_minor": 2
}
